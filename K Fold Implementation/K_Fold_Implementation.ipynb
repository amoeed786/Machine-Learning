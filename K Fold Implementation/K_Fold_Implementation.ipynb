{
 "cells": [
  {
   "cell_type": "code",
   "execution_count": 27,
   "id": "2ae9d3eb-da08-4975-91d4-7667413103b9",
   "metadata": {},
   "outputs": [],
   "source": [
    "import pandas as pd\n",
    "from sklearn.model_selection import train_test_split\n",
    "from sklearn.preprocessing import StandardScaler, OneHotEncoder\n",
    "from sklearn.compose import ColumnTransformer\n",
    "from sklearn.linear_model import LogisticRegression\n",
    "from sklearn.model_selection import cross_val_score, KFold\n",
    "from sklearn.linear_model import LogisticRegression\n",
    "from sklearn.tree import DecisionTreeClassifier\n",
    "from sklearn.svm import SVC\n",
    "from sklearn.datasets import load_iris, load_wine"
   ]
  },
  {
   "cell_type": "code",
   "execution_count": 37,
   "id": "a55644d6-726d-4e4a-9341-8ea37f8c1f32",
   "metadata": {},
   "outputs": [],
   "source": [
    "iris = load_iris()\n",
    "wine = load_wine()\n",
    "X_iris, y_iris = iris.data, iris.target\n",
    "X_wine, y_wine = wine.data, wine.target"
   ]
  },
  {
   "cell_type": "code",
   "execution_count": 31,
   "id": "ae9d62da-9f96-4731-990f-431c28998ae3",
   "metadata": {},
   "outputs": [],
   "source": [
    "models = {\n",
    "    'Logistic Regression': LogisticRegression(max_iter=200),\n",
    "    'Decision Tree': DecisionTreeClassifier(),\n",
    "    'SVM': SVC()\n",
    "}\n",
    "k_values = [5, 7, 10]"
   ]
  },
  {
   "cell_type": "code",
   "execution_count": 35,
   "id": "9a0fefe4-38ff-41cb-b123-1222ced2b722",
   "metadata": {},
   "outputs": [],
   "source": [
    "def perform_kfold(models, X, y, k_values):\n",
    "    results = {}\n",
    "    for model_name, model in models.items():\n",
    "        model_results = {}\n",
    "        for k in k_values:\n",
    "            kf = KFold(n_splits=k, shuffle=True, random_state=1)\n",
    "            cv_results = cross_val_score(model, X, y, cv=kf)\n",
    "            model_results[k] = cv_results.mean()\n",
    "        results[model_name] = model_results\n",
    "    return results"
   ]
  },
  {
   "cell_type": "code",
   "execution_count": null,
   "id": "cf2b2ecd-93f0-47e1-8259-759e1638c6ef",
   "metadata": {
    "scrolled": true
   },
   "outputs": [],
   "source": [
    "iris_results = perform_kfold_cv(models, X_iris, y_iris, k_values)\n",
    "wine_results = perform_kfold_cv(models, X_wine, y_wine, k_values)"
   ]
  },
  {
   "cell_type": "code",
   "execution_count": 41,
   "id": "7971bc90-5b1f-484f-be6b-1968edd6420b",
   "metadata": {},
   "outputs": [
    {
     "name": "stdout",
     "output_type": "stream",
     "text": [
      "Iris Dataset Results:\n",
      "\n",
      "Logistic Regression:\n",
      "k=5: 0.9600\n",
      "k=7: 0.9666\n",
      "k=10: 0.9533\n",
      "\n",
      "Decision Tree:\n",
      "k=5: 0.9333\n",
      "k=7: 0.9394\n",
      "k=10: 0.9533\n",
      "\n",
      "SVM:\n",
      "k=5: 0.9467\n",
      "k=7: 0.9598\n",
      "k=10: 0.9600\n",
      "\n",
      "Wine Dataset Results:\n",
      "\n",
      "Logistic Regression:\n",
      "k=5: 0.9383\n",
      "k=7: 0.9435\n",
      "k=10: 0.9493\n",
      "\n",
      "Decision Tree:\n",
      "k=5: 0.8702\n",
      "k=7: 0.9101\n",
      "k=10: 0.8928\n",
      "\n",
      "SVM:\n",
      "k=5: 0.6792\n",
      "k=7: 0.6629\n",
      "k=10: 0.6899\n"
     ]
    }
   ],
   "source": [
    "print(\"Iris Dataset Results:\")\n",
    "for model, result in iris_results.items():\n",
    "    print(f\"\\n{model}:\")\n",
    "    for k, score in result.items():\n",
    "        print(f\"k={k}: {score:.4f}\")\n",
    "\n",
    "print(\"\\nWine Dataset Results:\")\n",
    "for model, result in wine_results.items():\n",
    "    print(f\"\\n{model}:\")\n",
    "    for k, score in result.items():\n",
    "        print(f\"k={k}: {score:.4f}\")"
   ]
  },
  {
   "cell_type": "code",
   "execution_count": null,
   "id": "875b3f6f-d479-4252-a8f1-10dffe891e82",
   "metadata": {},
   "outputs": [],
   "source": []
  },
  {
   "cell_type": "code",
   "execution_count": null,
   "id": "ef77d93e-edce-4f8a-b6d6-50dc89eafca6",
   "metadata": {},
   "outputs": [],
   "source": []
  }
 ],
 "metadata": {
  "kernelspec": {
   "display_name": "Python 3 (ipykernel)",
   "language": "python",
   "name": "python3"
  },
  "language_info": {
   "codemirror_mode": {
    "name": "ipython",
    "version": 3
   },
   "file_extension": ".py",
   "mimetype": "text/x-python",
   "name": "python",
   "nbconvert_exporter": "python",
   "pygments_lexer": "ipython3",
   "version": "3.11.7"
  }
 },
 "nbformat": 4,
 "nbformat_minor": 5
}
