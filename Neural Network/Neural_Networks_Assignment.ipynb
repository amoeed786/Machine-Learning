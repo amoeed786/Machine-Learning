{
 "cells": [
  {
   "cell_type": "markdown",
   "id": "ca5487ae-4a40-4c9a-aab9-afb96ce3c633",
   "metadata": {},
   "source": [
    "# **Regression Part**"
   ]
  },
  {
   "cell_type": "code",
   "execution_count": 15,
   "id": "c384eea0-37ff-4858-9dc8-a0f4b1a71648",
   "metadata": {},
   "outputs": [],
   "source": [
    "from sklearn.datasets import fetch_california_housing,load_iris\n",
    "from sklearn.model_selection import train_test_split\n",
    "from sklearn.preprocessing import StandardScaler\n",
    "from sklearn.neural_network import MLPRegressor,ML\n",
    "from sklearn.model_selection import GridSearchCV"
   ]
  },
  {
   "cell_type": "code",
   "execution_count": 12,
   "id": "16872d9a-b8ac-4c09-bc96-f1b8e738cfbe",
   "metadata": {},
   "outputs": [],
   "source": [
    "# Load dataset\n",
    "california = fetch_california_housing()\n",
    "X = california.data\n",
    "y = california.target\n",
    "\n",
    "# Split data\n",
    "X_train, X_test, y_train, y_test = train_test_split(X, y, test_size=0.2, random_state=42)\n",
    "\n",
    "# Scale data\n",
    "scaler = StandardScaler()\n",
    "X_train = scaler.fit_transform(X_train)\n",
    "X_test = scaler.transform(X_test)"
   ]
  },
  {
   "cell_type": "code",
   "execution_count": 13,
   "id": "5370415f-7e9d-4840-bfab-592eae039c41",
   "metadata": {},
   "outputs": [],
   "source": [
    "# Define the model\n",
    "mlp_regressor = MLPRegressor(max_iter=200)\n",
    "\n",
    "# Define the grid search parameters\n",
    "param_grid = {\n",
    "    'hidden_layer_sizes': [(16, 16), (32, 32), (64, 64)],\n",
    "    'activation': ['relu', 'tanh'],\n",
    "    'solver': ['sgd', 'adam'],\n",
    "    'learning_rate_init': [0.001, 0.01, 0.1]\n",
    "}"
   ]
  },
  {
   "cell_type": "code",
   "execution_count": 14,
   "id": "79f000a1-8814-4614-b8aa-9922b4151f1c",
   "metadata": {},
   "outputs": [
    {
     "name": "stderr",
     "output_type": "stream",
     "text": [
      "C:\\Users\\Administrator\\anaconda3\\Lib\\site-packages\\sklearn\\model_selection\\_validation.py:378: FitFailedWarning: \n",
      "5 fits failed out of a total of 108.\n",
      "The score on these train-test partitions for these parameters will be set to nan.\n",
      "If these failures are not expected, you can try to debug them by setting error_score='raise'.\n",
      "\n",
      "Below are more details about the failures:\n",
      "--------------------------------------------------------------------------------\n",
      "5 fits failed with the following error:\n",
      "Traceback (most recent call last):\n",
      "  File \"C:\\Users\\Administrator\\anaconda3\\Lib\\site-packages\\sklearn\\model_selection\\_validation.py\", line 686, in _fit_and_score\n",
      "    estimator.fit(X_train, y_train, **fit_params)\n",
      "  File \"C:\\Users\\Administrator\\anaconda3\\Lib\\site-packages\\sklearn\\neural_network\\_multilayer_perceptron.py\", line 749, in fit\n",
      "    return self._fit(X, y, incremental=False)\n",
      "           ^^^^^^^^^^^^^^^^^^^^^^^^^^^^^^^^^^\n",
      "  File \"C:\\Users\\Administrator\\anaconda3\\Lib\\site-packages\\sklearn\\neural_network\\_multilayer_perceptron.py\", line 491, in _fit\n",
      "    raise ValueError(\n",
      "ValueError: Solver produced non-finite parameter weights. The input data may contain large values and need to be preprocessed.\n",
      "\n",
      "  warnings.warn(some_fits_failed_message, FitFailedWarning)\n",
      "C:\\Users\\Administrator\\anaconda3\\Lib\\site-packages\\sklearn\\model_selection\\_search.py:952: UserWarning: One or more of the test scores are non-finite: [ 0.72955436  0.77144371  0.75555061  0.77161142         nan  0.7044712\n",
      "  0.74126676  0.78440554  0.77395815  0.78970293         nan  0.6923953\n",
      "  0.74823597  0.7870257   0.78411905  0.76673924         nan -0.00163347\n",
      "  0.7229153   0.77341567  0.77011616  0.79446517  0.53926103  0.64802478\n",
      "  0.71697494  0.78464289  0.77796038  0.78757682  0.73003139  0.53046154\n",
      "  0.71250437  0.78974253  0.76948887  0.76874001         nan  0.66600027]\n",
      "  warnings.warn(\n"
     ]
    },
    {
     "data": {
      "text/plain": [
       "(0.7944651745573,\n",
       " {'activation': 'tanh',\n",
       "  'hidden_layer_sizes': (16, 16),\n",
       "  'learning_rate_init': 0.01,\n",
       "  'solver': 'adam'},\n",
       " 0.7820515990856565)"
      ]
     },
     "execution_count": 14,
     "metadata": {},
     "output_type": "execute_result"
    }
   ],
   "source": [
    "# Perform Grid Search\n",
    "grid_search = GridSearchCV(estimator=mlp_regressor, param_grid=param_grid, n_jobs=-1, cv=3)\n",
    "grid_result = grid_search.fit(X_train, y_train)\n",
    "\n",
    "# Summarize results\n",
    "best_score = grid_result.best_score_\n",
    "best_params = grid_result.best_params_\n",
    "best_estimator = grid_result.best_estimator_\n",
    "test_score = best_estimator.score(X_test, y_test)\n",
    "\n",
    "best_score, best_params, test_score"
   ]
  },
  {
   "cell_type": "markdown",
   "id": "5839857b-f752-43da-a251-1a13c0a146c3",
   "metadata": {},
   "source": [
    "# **Classification Part**"
   ]
  },
  {
   "cell_type": "code",
   "execution_count": 16,
   "id": "f1a6913d-4cfa-472b-9fe5-342ddfa81577",
   "metadata": {},
   "outputs": [],
   "source": [
    "# Load dataset\n",
    "iris = load_iris()\n",
    "X = iris.data\n",
    "y = iris.target\n",
    "\n",
    "# Split data\n",
    "X_train, X_test, y_train, y_test = train_test_split(X, y, test_size=0.2, random_state=42)\n",
    "\n",
    "# Scale data\n",
    "scaler = StandardScaler()\n",
    "X_train = scaler.fit_transform(X_train)\n",
    "X_test = scaler.transform(X_test)"
   ]
  },
  {
   "cell_type": "code",
   "execution_count": 17,
   "id": "e8d9d95f-aef8-45c7-8ea2-ed9bc300d010",
   "metadata": {},
   "outputs": [
    {
     "ename": "NameError",
     "evalue": "name 'MLPClassifier' is not defined",
     "output_type": "error",
     "traceback": [
      "\u001b[1;31m---------------------------------------------------------------------------\u001b[0m",
      "\u001b[1;31mNameError\u001b[0m                                 Traceback (most recent call last)",
      "Cell \u001b[1;32mIn[17], line 1\u001b[0m\n\u001b[1;32m----> 1\u001b[0m mlp_classifier \u001b[38;5;241m=\u001b[39m MLPClassifier(max_iter\u001b[38;5;241m=\u001b[39m\u001b[38;5;241m200\u001b[39m)\n\u001b[0;32m      3\u001b[0m \u001b[38;5;66;03m# Define the grid search parameters\u001b[39;00m\n\u001b[0;32m      4\u001b[0m param_grid \u001b[38;5;241m=\u001b[39m {\n\u001b[0;32m      5\u001b[0m     \u001b[38;5;124m'\u001b[39m\u001b[38;5;124mhidden_layer_sizes\u001b[39m\u001b[38;5;124m'\u001b[39m: [(\u001b[38;5;241m16\u001b[39m, \u001b[38;5;241m16\u001b[39m), (\u001b[38;5;241m32\u001b[39m, \u001b[38;5;241m32\u001b[39m), (\u001b[38;5;241m64\u001b[39m, \u001b[38;5;241m64\u001b[39m)],\n\u001b[0;32m      6\u001b[0m     \u001b[38;5;124m'\u001b[39m\u001b[38;5;124mactivation\u001b[39m\u001b[38;5;124m'\u001b[39m: [\u001b[38;5;124m'\u001b[39m\u001b[38;5;124mrelu\u001b[39m\u001b[38;5;124m'\u001b[39m, \u001b[38;5;124m'\u001b[39m\u001b[38;5;124mtanh\u001b[39m\u001b[38;5;124m'\u001b[39m],\n\u001b[0;32m      7\u001b[0m     \u001b[38;5;124m'\u001b[39m\u001b[38;5;124msolver\u001b[39m\u001b[38;5;124m'\u001b[39m: [\u001b[38;5;124m'\u001b[39m\u001b[38;5;124msgd\u001b[39m\u001b[38;5;124m'\u001b[39m, \u001b[38;5;124m'\u001b[39m\u001b[38;5;124madam\u001b[39m\u001b[38;5;124m'\u001b[39m],\n\u001b[0;32m      8\u001b[0m     \u001b[38;5;124m'\u001b[39m\u001b[38;5;124mlearning_rate_init\u001b[39m\u001b[38;5;124m'\u001b[39m: [\u001b[38;5;241m0.001\u001b[39m, \u001b[38;5;241m0.01\u001b[39m, \u001b[38;5;241m0.1\u001b[39m]\n\u001b[0;32m      9\u001b[0m }\n",
      "\u001b[1;31mNameError\u001b[0m: name 'MLPClassifier' is not defined"
     ]
    }
   ],
   "source": [
    "mlp_classifier = MLPClassifier(max_iter=200)\n",
    "\n",
    "# Define the grid search parameters\n",
    "param_grid = {\n",
    "    'hidden_layer_sizes': [(16, 16), (32, 32), (64, 64)],\n",
    "    'activation': ['relu', 'tanh'],\n",
    "    'solver': ['sgd', 'adam'],\n",
    "    'learning_rate_init': [0.001, 0.01, 0.1]\n",
    "}"
   ]
  },
  {
   "cell_type": "code",
   "execution_count": null,
   "id": "28f50db4-2218-44b4-aca2-1077ece8c73b",
   "metadata": {},
   "outputs": [],
   "source": [
    "# Perform Grid Search\n",
    "grid_search = GridSearchCV(estimator=mlp_classifier, param_grid=param_grid, n_jobs=-1, cv=3)\n",
    "grid_result = grid_search.fit(X_train, y_train)\n",
    "\n",
    "# Summarize results\n",
    "best_score = grid_result.best_score_\n",
    "best_params = grid_result.best_params_\n",
    "best_estimator = grid_result.best_estimator_\n",
    "test_score = best_estimator.score(X_test, y_test)\n",
    "\n",
    "best_score, best_params, test_score"
   ]
  },
  {
   "cell_type": "code",
   "execution_count": null,
   "id": "6eb73fab-1eb5-4db7-99e3-617b9d9d6f06",
   "metadata": {},
   "outputs": [],
   "source": []
  }
 ],
 "metadata": {
  "kernelspec": {
   "display_name": "Python 3 (ipykernel)",
   "language": "python",
   "name": "python3"
  },
  "language_info": {
   "codemirror_mode": {
    "name": "ipython",
    "version": 3
   },
   "file_extension": ".py",
   "mimetype": "text/x-python",
   "name": "python",
   "nbconvert_exporter": "python",
   "pygments_lexer": "ipython3",
   "version": "3.11.7"
  }
 },
 "nbformat": 4,
 "nbformat_minor": 5
}
